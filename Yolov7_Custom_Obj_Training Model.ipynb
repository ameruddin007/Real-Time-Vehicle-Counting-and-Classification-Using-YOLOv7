{
  "nbformat": 4,
  "nbformat_minor": 0,
  "metadata": {
    "colab": {
      "provenance": []
    },
    "kernelspec": {
      "name": "python3",
      "display_name": "Python 3"
    },
    "language_info": {
      "name": "python"
    },
    "accelerator": "GPU",
    "gpuClass": "standard"
  },
  "cells": [
    {
      "cell_type": "code",
      "execution_count": null,
      "metadata": {
        "id": "-w2MZrs84cwB"
      },
      "outputs": [],
      "source": [
        "from google.colab import drive"
      ]
    },
    {
      "cell_type": "code",
      "source": [
        "drive.mount(\"/content/gdrive\")"
      ],
      "metadata": {
        "colab": {
          "base_uri": "https://localhost:8080/"
        },
        "id": "l0LdKYHf405e",
        "outputId": "c3d4d99f-5cda-4ccd-a73c-e414b553b143"
      },
      "execution_count": null,
      "outputs": [
        {
          "output_type": "stream",
          "name": "stdout",
          "text": [
            "Mounted at /content/gdrive\n"
          ]
        }
      ]
    },
    {
      "cell_type": "code",
      "source": [
        "%cd gdrive"
      ],
      "metadata": {
        "colab": {
          "base_uri": "https://localhost:8080/"
        },
        "id": "h-n-2nMc5Eqk",
        "outputId": "8c720b65-b5dc-4b5e-93dc-a5e71db65812"
      },
      "execution_count": null,
      "outputs": [
        {
          "output_type": "stream",
          "name": "stdout",
          "text": [
            "/content/gdrive\n"
          ]
        }
      ]
    },
    {
      "cell_type": "code",
      "source": [
        "%cd MyDrive"
      ],
      "metadata": {
        "colab": {
          "base_uri": "https://localhost:8080/"
        },
        "id": "h5cIKVXL5UFC",
        "outputId": "818fda65-9286-4e56-b2f4-8428e226ca7d"
      },
      "execution_count": null,
      "outputs": [
        {
          "output_type": "stream",
          "name": "stdout",
          "text": [
            "/content/gdrive/MyDrive\n"
          ]
        }
      ]
    },
    {
      "cell_type": "code",
      "source": [
        "import os"
      ],
      "metadata": {
        "id": "u9YRbYak5gss"
      },
      "execution_count": null,
      "outputs": []
    },
    {
      "cell_type": "code",
      "source": [
        "if not os.path.isdir(\"Yolov7\"):\n",
        "  os.makedirs(\"Yolov7\")"
      ],
      "metadata": {
        "id": "m7HmMjvD5omF"
      },
      "execution_count": null,
      "outputs": []
    },
    {
      "cell_type": "code",
      "source": [
        "%cd Yolov7"
      ],
      "metadata": {
        "colab": {
          "base_uri": "https://localhost:8080/"
        },
        "id": "7NAxNTWT53j8",
        "outputId": "dc849461-10a6-4846-974a-4f1d6478d002"
      },
      "execution_count": null,
      "outputs": [
        {
          "output_type": "stream",
          "name": "stdout",
          "text": [
            "/content/gdrive/MyDrive/Yolov7\n"
          ]
        }
      ]
    },
    {
      "cell_type": "code",
      "source": [
        "!git clone https://github.com/WongKinYiu/yolov7.git"
      ],
      "metadata": {
        "colab": {
          "base_uri": "https://localhost:8080/"
        },
        "id": "Ir5YC-eq7iWB",
        "outputId": "cb68e25f-3d4b-4ec5-8e9f-353474594be9"
      },
      "execution_count": null,
      "outputs": [
        {
          "output_type": "stream",
          "name": "stdout",
          "text": [
            "fatal: destination path 'yolov7' already exists and is not an empty directory.\n"
          ]
        }
      ]
    },
    {
      "cell_type": "code",
      "source": [
        "!pwd"
      ],
      "metadata": {
        "id": "p4gHomz_7tmq",
        "colab": {
          "base_uri": "https://localhost:8080/"
        },
        "outputId": "90abd904-982c-45d7-c26e-6c46e7cd91eb"
      },
      "execution_count": null,
      "outputs": [
        {
          "output_type": "stream",
          "name": "stdout",
          "text": [
            "/content/gdrive/MyDrive/Yolov7/yolov7\n"
          ]
        }
      ]
    },
    {
      "cell_type": "code",
      "source": [
        "cd yolov7"
      ],
      "metadata": {
        "colab": {
          "base_uri": "https://localhost:8080/"
        },
        "id": "V89yw0bd-LEc",
        "outputId": "86db129a-0619-4043-a4c7-12550b64a643"
      },
      "execution_count": null,
      "outputs": [
        {
          "output_type": "stream",
          "name": "stdout",
          "text": [
            "/content/gdrive/MyDrive/Yolov7/yolov7\n"
          ]
        }
      ]
    },
    {
      "cell_type": "code",
      "source": [
        "!pwd"
      ],
      "metadata": {
        "colab": {
          "base_uri": "https://localhost:8080/"
        },
        "id": "z3bkfzFQ-OIM",
        "outputId": "eb50fbeb-5a22-4308-a8f4-8cf9d3a2c675"
      },
      "execution_count": null,
      "outputs": [
        {
          "output_type": "stream",
          "name": "stdout",
          "text": [
            "/content/gdrive/MyDrive/Yolov7/yolov7\n"
          ]
        }
      ]
    },
    {
      "cell_type": "code",
      "source": [
        "!python train.py --device 0 --batch-size 8 --epochs 30 --img 640 640 --data data/custom_data.yaml --hyp data/hyp.scratch.custom.yaml --cfg cfg/training/yolov7_custom.yaml --weights yolov7.pt --name yolov7_Helmet"
      ],
      "metadata": {
        "colab": {
          "base_uri": "https://localhost:8080/"
        },
        "id": "agVQT864-PXt",
        "outputId": "297d73b5-91ed-47c3-8ee3-75cb22663755"
      },
      "execution_count": null,
      "outputs": [
        {
          "output_type": "stream",
          "name": "stdout",
          "text": [
            "YOLOR 🚀 v0.1-107-g44d8ab4 torch 1.12.1+cu113 CUDA:0 (Tesla T4, 15109.75MB)\n",
            "\n",
            "Namespace(adam=False, artifact_alias='latest', batch_size=8, bbox_interval=-1, bucket='', cache_images=False, cfg='cfg/training/yolov7_custom.yaml', data='data/custom_data.yaml', device='0', entity=None, epochs=30, evolve=False, exist_ok=False, freeze=[0], global_rank=-1, hyp='data/hyp.scratch.custom.yaml', image_weights=False, img_size=[640, 640], label_smoothing=0.0, linear_lr=False, local_rank=-1, multi_scale=False, name='yolov7_Helmet', noautoanchor=False, nosave=False, notest=False, project='runs/train', quad=False, rect=False, resume=False, save_dir='runs/train/yolov7_Helmet3', save_period=-1, single_cls=False, sync_bn=False, total_batch_size=8, upload_dataset=False, weights='yolov7.pt', workers=8, world_size=1)\n",
            "\u001b[34m\u001b[1mtensorboard: \u001b[0mStart with 'tensorboard --logdir runs/train', view at http://localhost:6006/\n",
            "\u001b[34m\u001b[1mhyperparameters: \u001b[0mlr0=0.01, lrf=0.1, momentum=0.937, weight_decay=0.0005, warmup_epochs=3.0, warmup_momentum=0.8, warmup_bias_lr=0.1, box=0.05, cls=0.3, cls_pw=1.0, obj=0.7, obj_pw=1.0, iou_t=0.2, anchor_t=4.0, fl_gamma=0.0, hsv_h=0.015, hsv_s=0.7, hsv_v=0.4, degrees=0.0, translate=0.2, scale=0.5, shear=0.0, perspective=0.0, flipud=0.0, fliplr=0.5, mosaic=1.0, mixup=0.0, copy_paste=0.0, paste_in=0.0, loss_ota=1\n",
            "\u001b[34m\u001b[1mwandb: \u001b[0mInstall Weights & Biases for YOLOR logging with 'pip install wandb' (recommended)\n",
            "\n",
            "                 from  n    params  module                                  arguments                     \n",
            "  0                -1  1       928  models.common.Conv                      [3, 32, 3, 1]                 \n",
            "  1                -1  1     18560  models.common.Conv                      [32, 64, 3, 2]                \n",
            "  2                -1  1     36992  models.common.Conv                      [64, 64, 3, 1]                \n",
            "  3                -1  1     73984  models.common.Conv                      [64, 128, 3, 2]               \n",
            "  4                -1  1      8320  models.common.Conv                      [128, 64, 1, 1]               \n",
            "  5                -2  1      8320  models.common.Conv                      [128, 64, 1, 1]               \n",
            "  6                -1  1     36992  models.common.Conv                      [64, 64, 3, 1]                \n",
            "  7                -1  1     36992  models.common.Conv                      [64, 64, 3, 1]                \n",
            "  8                -1  1     36992  models.common.Conv                      [64, 64, 3, 1]                \n",
            "  9                -1  1     36992  models.common.Conv                      [64, 64, 3, 1]                \n",
            " 10  [-1, -3, -5, -6]  1         0  models.common.Concat                    [1]                           \n",
            " 11                -1  1     66048  models.common.Conv                      [256, 256, 1, 1]              \n",
            " 12                -1  1         0  models.common.MP                        []                            \n",
            " 13                -1  1     33024  models.common.Conv                      [256, 128, 1, 1]              \n",
            " 14                -3  1     33024  models.common.Conv                      [256, 128, 1, 1]              \n",
            " 15                -1  1    147712  models.common.Conv                      [128, 128, 3, 2]              \n",
            " 16          [-1, -3]  1         0  models.common.Concat                    [1]                           \n",
            " 17                -1  1     33024  models.common.Conv                      [256, 128, 1, 1]              \n",
            " 18                -2  1     33024  models.common.Conv                      [256, 128, 1, 1]              \n",
            " 19                -1  1    147712  models.common.Conv                      [128, 128, 3, 1]              \n",
            " 20                -1  1    147712  models.common.Conv                      [128, 128, 3, 1]              \n",
            " 21                -1  1    147712  models.common.Conv                      [128, 128, 3, 1]              \n",
            " 22                -1  1    147712  models.common.Conv                      [128, 128, 3, 1]              \n",
            " 23  [-1, -3, -5, -6]  1         0  models.common.Concat                    [1]                           \n",
            " 24                -1  1    263168  models.common.Conv                      [512, 512, 1, 1]              \n",
            " 25                -1  1         0  models.common.MP                        []                            \n",
            " 26                -1  1    131584  models.common.Conv                      [512, 256, 1, 1]              \n",
            " 27                -3  1    131584  models.common.Conv                      [512, 256, 1, 1]              \n",
            " 28                -1  1    590336  models.common.Conv                      [256, 256, 3, 2]              \n",
            " 29          [-1, -3]  1         0  models.common.Concat                    [1]                           \n",
            " 30                -1  1    131584  models.common.Conv                      [512, 256, 1, 1]              \n",
            " 31                -2  1    131584  models.common.Conv                      [512, 256, 1, 1]              \n",
            " 32                -1  1    590336  models.common.Conv                      [256, 256, 3, 1]              \n",
            " 33                -1  1    590336  models.common.Conv                      [256, 256, 3, 1]              \n",
            " 34                -1  1    590336  models.common.Conv                      [256, 256, 3, 1]              \n",
            " 35                -1  1    590336  models.common.Conv                      [256, 256, 3, 1]              \n",
            " 36  [-1, -3, -5, -6]  1         0  models.common.Concat                    [1]                           \n",
            " 37                -1  1   1050624  models.common.Conv                      [1024, 1024, 1, 1]            \n",
            " 38                -1  1         0  models.common.MP                        []                            \n",
            " 39                -1  1    525312  models.common.Conv                      [1024, 512, 1, 1]             \n",
            " 40                -3  1    525312  models.common.Conv                      [1024, 512, 1, 1]             \n",
            " 41                -1  1   2360320  models.common.Conv                      [512, 512, 3, 2]              \n",
            " 42          [-1, -3]  1         0  models.common.Concat                    [1]                           \n",
            " 43                -1  1    262656  models.common.Conv                      [1024, 256, 1, 1]             \n",
            " 44                -2  1    262656  models.common.Conv                      [1024, 256, 1, 1]             \n",
            " 45                -1  1    590336  models.common.Conv                      [256, 256, 3, 1]              \n",
            " 46                -1  1    590336  models.common.Conv                      [256, 256, 3, 1]              \n",
            " 47                -1  1    590336  models.common.Conv                      [256, 256, 3, 1]              \n",
            " 48                -1  1    590336  models.common.Conv                      [256, 256, 3, 1]              \n",
            " 49  [-1, -3, -5, -6]  1         0  models.common.Concat                    [1]                           \n",
            " 50                -1  1   1050624  models.common.Conv                      [1024, 1024, 1, 1]            \n",
            " 51                -1  1   7609344  models.common.SPPCSPC                   [1024, 512, 1]                \n",
            " 52                -1  1    131584  models.common.Conv                      [512, 256, 1, 1]              \n",
            " 53                -1  1         0  torch.nn.modules.upsampling.Upsample    [None, 2, 'nearest']          \n",
            " 54                37  1    262656  models.common.Conv                      [1024, 256, 1, 1]             \n",
            " 55          [-1, -2]  1         0  models.common.Concat                    [1]                           \n",
            " 56                -1  1    131584  models.common.Conv                      [512, 256, 1, 1]              \n",
            " 57                -2  1    131584  models.common.Conv                      [512, 256, 1, 1]              \n",
            " 58                -1  1    295168  models.common.Conv                      [256, 128, 3, 1]              \n",
            " 59                -1  1    147712  models.common.Conv                      [128, 128, 3, 1]              \n",
            " 60                -1  1    147712  models.common.Conv                      [128, 128, 3, 1]              \n",
            " 61                -1  1    147712  models.common.Conv                      [128, 128, 3, 1]              \n",
            " 62[-1, -2, -3, -4, -5, -6]  1         0  models.common.Concat                    [1]                           \n",
            " 63                -1  1    262656  models.common.Conv                      [1024, 256, 1, 1]             \n",
            " 64                -1  1     33024  models.common.Conv                      [256, 128, 1, 1]              \n",
            " 65                -1  1         0  torch.nn.modules.upsampling.Upsample    [None, 2, 'nearest']          \n",
            " 66                24  1     65792  models.common.Conv                      [512, 128, 1, 1]              \n",
            " 67          [-1, -2]  1         0  models.common.Concat                    [1]                           \n",
            " 68                -1  1     33024  models.common.Conv                      [256, 128, 1, 1]              \n",
            " 69                -2  1     33024  models.common.Conv                      [256, 128, 1, 1]              \n",
            " 70                -1  1     73856  models.common.Conv                      [128, 64, 3, 1]               \n",
            " 71                -1  1     36992  models.common.Conv                      [64, 64, 3, 1]                \n",
            " 72                -1  1     36992  models.common.Conv                      [64, 64, 3, 1]                \n",
            " 73                -1  1     36992  models.common.Conv                      [64, 64, 3, 1]                \n",
            " 74[-1, -2, -3, -4, -5, -6]  1         0  models.common.Concat                    [1]                           \n",
            " 75                -1  1     65792  models.common.Conv                      [512, 128, 1, 1]              \n",
            " 76                -1  1         0  models.common.MP                        []                            \n",
            " 77                -1  1     16640  models.common.Conv                      [128, 128, 1, 1]              \n",
            " 78                -3  1     16640  models.common.Conv                      [128, 128, 1, 1]              \n",
            " 79                -1  1    147712  models.common.Conv                      [128, 128, 3, 2]              \n",
            " 80      [-1, -3, 63]  1         0  models.common.Concat                    [1]                           \n",
            " 81                -1  1    131584  models.common.Conv                      [512, 256, 1, 1]              \n",
            " 82                -2  1    131584  models.common.Conv                      [512, 256, 1, 1]              \n",
            " 83                -1  1    295168  models.common.Conv                      [256, 128, 3, 1]              \n",
            " 84                -1  1    147712  models.common.Conv                      [128, 128, 3, 1]              \n",
            " 85                -1  1    147712  models.common.Conv                      [128, 128, 3, 1]              \n",
            " 86                -1  1    147712  models.common.Conv                      [128, 128, 3, 1]              \n",
            " 87[-1, -2, -3, -4, -5, -6]  1         0  models.common.Concat                    [1]                           \n",
            " 88                -1  1    262656  models.common.Conv                      [1024, 256, 1, 1]             \n",
            " 89                -1  1         0  models.common.MP                        []                            \n",
            " 90                -1  1     66048  models.common.Conv                      [256, 256, 1, 1]              \n",
            " 91                -3  1     66048  models.common.Conv                      [256, 256, 1, 1]              \n",
            " 92                -1  1    590336  models.common.Conv                      [256, 256, 3, 2]              \n",
            " 93      [-1, -3, 51]  1         0  models.common.Concat                    [1]                           \n",
            " 94                -1  1    525312  models.common.Conv                      [1024, 512, 1, 1]             \n",
            " 95                -2  1    525312  models.common.Conv                      [1024, 512, 1, 1]             \n",
            " 96                -1  1   1180160  models.common.Conv                      [512, 256, 3, 1]              \n",
            " 97                -1  1    590336  models.common.Conv                      [256, 256, 3, 1]              \n",
            " 98                -1  1    590336  models.common.Conv                      [256, 256, 3, 1]              \n",
            " 99                -1  1    590336  models.common.Conv                      [256, 256, 3, 1]              \n",
            "100[-1, -2, -3, -4, -5, -6]  1         0  models.common.Concat                    [1]                           \n",
            "101                -1  1   1049600  models.common.Conv                      [2048, 512, 1, 1]             \n",
            "102                75  1    328704  models.common.RepConv                   [128, 256, 3, 1]              \n",
            "103                88  1   1312768  models.common.RepConv                   [256, 512, 3, 1]              \n",
            "104               101  1   5246976  models.common.RepConv                   [512, 1024, 3, 1]             \n",
            "105   [102, 103, 104]  1     50338  models.yolo.IDetect                     [4, [[12, 16, 19, 36, 40, 28], [36, 75, 76, 55, 72, 146], [142, 110, 192, 243, 459, 401]], [256, 512, 1024]]\n",
            "Model Summary: 415 layers, 37212738 parameters, 37212738 gradients\n",
            "\n",
            "Transferred 552/566 items from yolov7.pt\n",
            "Scaled weight_decay = 0.0005\n",
            "Optimizer groups: 95 .bias, 95 conv.weight, 98 other\n",
            "\u001b[34m\u001b[1mtrain: \u001b[0mScanning 'data/800_IMGs/train/labels.cache' images and labels... 601 found, 0 missing, 1 empty, 0 corrupted: 100% 601/601 [00:00<?, ?it/s]\n",
            "\u001b[34m\u001b[1mval: \u001b[0mScanning 'data/800_IMGs/valid/labels.cache' images and labels... 120 found, 0 missing, 0 empty, 0 corrupted: 100% 120/120 [00:00<?, ?it/s]\n",
            "\n",
            "\u001b[34m\u001b[1mautoanchor: \u001b[0mAnalyzing anchors... anchors/target = 3.80, Best Possible Recall (BPR) = 0.9605. Attempting to improve anchors, please wait...\n",
            "\u001b[34m\u001b[1mautoanchor: \u001b[0mWARNING: Extremely small objects found. 106 of 5494 labels are < 3 pixels in size.\n",
            "\u001b[34m\u001b[1mautoanchor: \u001b[0mRunning kmeans for 9 anchors on 5494 points...\n",
            "\u001b[34m\u001b[1mautoanchor: \u001b[0mthr=0.25: 0.9975 best possible recall, 5.03 anchors past thr\n",
            "\u001b[34m\u001b[1mautoanchor: \u001b[0mn=9, img_size=640, metric_all=0.342/0.757-mean/best, past_thr=0.507-mean: 8,7,  13,15,  23,18,  20,40,  34,33,  33,65,  54,94,  83,127,  130,161\n",
            "\u001b[34m\u001b[1mautoanchor: \u001b[0mEvolving anchors with Genetic Algorithm: fitness = 0.7717: 100% 1000/1000 [00:03<00:00, 266.08it/s]\n",
            "\u001b[34m\u001b[1mautoanchor: \u001b[0mthr=0.25: 0.9987 best possible recall, 5.08 anchors past thr\n",
            "\u001b[34m\u001b[1mautoanchor: \u001b[0mn=9, img_size=640, metric_all=0.348/0.772-mean/best, past_thr=0.515-mean: 6,6,  10,10,  16,16,  17,37,  25,26,  28,57,  46,88,  74,120,  114,154\n",
            "\u001b[34m\u001b[1mautoanchor: \u001b[0mNew anchors saved to model. Update model *.yaml to use these anchors in the future.\n",
            "\n",
            "Image sizes 640 train, 640 test\n",
            "Using 2 dataloader workers\n",
            "Logging results to runs/train/yolov7_Helmet3\n",
            "Starting training for 30 epochs...\n",
            "\n",
            "     Epoch   gpu_mem       box       obj       cls     total    labels  img_size\n",
            "      0/29     7.36G   0.08086    0.8849   0.03123     0.997         8       640: 100% 76/76 [12:28<00:00,  9.84s/it]\n",
            "               Class      Images      Labels           P           R      mAP@.5  mAP@.5:.95:   0% 0/8 [00:00<?, ?it/s]/usr/local/lib/python3.7/dist-packages/torch/functional.py:478: UserWarning: torch.meshgrid: in an upcoming release, it will be required to pass the indexing argument. (Triggered internally at  ../aten/src/ATen/native/TensorShape.cpp:2894.)\n",
            "  return _VF.meshgrid(tensors, **kwargs)  # type: ignore[attr-defined]\n",
            "               Class      Images      Labels           P           R      mAP@.5  mAP@.5:.95: 100% 8/8 [00:42<00:00,  5.29s/it]\n",
            "                 all         120        1015      0.0146      0.0334     0.00322    0.000601\n",
            "\n",
            "     Epoch   gpu_mem       box       obj       cls     total    labels  img_size\n",
            "      1/29     7.43G   0.08144   0.06102   0.03116    0.1736        13       640: 100% 76/76 [11:54<00:00,  9.40s/it]\n",
            "               Class      Images      Labels           P           R      mAP@.5  mAP@.5:.95: 100% 8/8 [00:33<00:00,  4.21s/it]\n",
            "                 all         120        1015      0.0668      0.0442        0.02     0.00379\n",
            "\n",
            "     Epoch   gpu_mem       box       obj       cls     total    labels  img_size\n",
            "      2/29     7.43G   0.08074   0.01983     0.031    0.1316         7       640: 100% 76/76 [12:21<00:00,  9.76s/it]\n",
            "               Class      Images      Labels           P           R      mAP@.5  mAP@.5:.95: 100% 8/8 [00:32<00:00,  4.07s/it]\n",
            "                 all         120        1015      0.0842       0.104      0.0711      0.0145\n",
            "\n",
            "     Epoch   gpu_mem       box       obj       cls     total    labels  img_size\n",
            "      3/29     7.43G   0.07867    0.0149   0.03065    0.1242         8       640: 100% 76/76 [11:30<00:00,  9.09s/it]\n",
            "               Class      Images      Labels           P           R      mAP@.5  mAP@.5:.95: 100% 8/8 [00:31<00:00,  3.98s/it]\n",
            "                 all         120        1015        0.11       0.224      0.0906      0.0215\n",
            "\n",
            "     Epoch   gpu_mem       box       obj       cls     total    labels  img_size\n",
            "      4/29     7.43G   0.07333   0.01284    0.0294    0.1156         4       640: 100% 76/76 [12:11<00:00,  9.62s/it]\n",
            "               Class      Images      Labels           P           R      mAP@.5  mAP@.5:.95: 100% 8/8 [00:34<00:00,  4.27s/it]\n",
            "                 all         120        1015       0.157       0.251       0.162      0.0436\n",
            "\n",
            "     Epoch   gpu_mem       box       obj       cls     total    labels  img_size\n",
            "      5/29     7.43G   0.06295   0.01394   0.02473    0.1016         7       640: 100% 76/76 [12:07<00:00,  9.58s/it]\n",
            "               Class      Images      Labels           P           R      mAP@.5  mAP@.5:.95: 100% 8/8 [00:31<00:00,  3.95s/it]\n",
            "                 all         120        1015       0.194       0.255        0.22      0.0614\n",
            "\n",
            "     Epoch   gpu_mem       box       obj       cls     total    labels  img_size\n",
            "      6/29     7.43G   0.05524   0.01594   0.01552    0.0867        28       640: 100% 76/76 [11:50<00:00,  9.34s/it]\n",
            "               Class      Images      Labels           P           R      mAP@.5  mAP@.5:.95: 100% 8/8 [00:32<00:00,  4.04s/it]\n",
            "                 all         120        1015       0.282       0.329       0.302       0.128\n",
            "\n",
            "     Epoch   gpu_mem       box       obj       cls     total    labels  img_size\n",
            "      7/29     7.43G   0.04981   0.01627   0.01124   0.07732         8       640: 100% 76/76 [11:39<00:00,  9.21s/it]\n",
            "               Class      Images      Labels           P           R      mAP@.5  mAP@.5:.95: 100% 8/8 [00:30<00:00,  3.84s/it]\n",
            "                 all         120        1015       0.246       0.359       0.302       0.111\n",
            "\n",
            "     Epoch   gpu_mem       box       obj       cls     total    labels  img_size\n",
            "      8/29     7.43G   0.04727    0.0167  0.009557   0.07353        23       640: 100% 76/76 [11:42<00:00,  9.24s/it]\n",
            "               Class      Images      Labels           P           R      mAP@.5  mAP@.5:.95: 100% 8/8 [00:29<00:00,  3.68s/it]\n",
            "                 all         120        1015       0.311       0.378       0.314       0.112\n",
            "\n",
            "     Epoch   gpu_mem       box       obj       cls     total    labels  img_size\n",
            "      9/29     7.43G   0.04463   0.01683  0.008636   0.07009        13       640: 100% 76/76 [12:06<00:00,  9.55s/it]\n",
            "               Class      Images      Labels           P           R      mAP@.5  mAP@.5:.95: 100% 8/8 [00:33<00:00,  4.22s/it]\n",
            "                 all         120        1015       0.643       0.411        0.41       0.164\n",
            "\n",
            "     Epoch   gpu_mem       box       obj       cls     total    labels  img_size\n",
            "     10/29     7.43G    0.0442   0.01716  0.007862   0.06922        37       640: 100% 76/76 [11:31<00:00,  9.10s/it]\n",
            "               Class      Images      Labels           P           R      mAP@.5  mAP@.5:.95: 100% 8/8 [00:33<00:00,  4.20s/it]\n",
            "                 all         120        1015       0.589       0.379       0.354       0.138\n",
            "\n",
            "     Epoch   gpu_mem       box       obj       cls     total    labels  img_size\n",
            "     11/29     7.43G   0.04355   0.01647  0.007403   0.06742         7       640: 100% 76/76 [11:42<00:00,  9.25s/it]\n",
            "               Class      Images      Labels           P           R      mAP@.5  mAP@.5:.95: 100% 8/8 [00:34<00:00,  4.33s/it]\n",
            "                 all         120        1015        0.72       0.429        0.45        0.18\n",
            "\n",
            "     Epoch   gpu_mem       box       obj       cls     total    labels  img_size\n",
            "     12/29     7.43G   0.04115   0.01645  0.006667   0.06427         4       640: 100% 76/76 [11:38<00:00,  9.19s/it]\n",
            "               Class      Images      Labels           P           R      mAP@.5  mAP@.5:.95: 100% 8/8 [00:33<00:00,  4.21s/it]\n",
            "                 all         120        1015       0.696       0.451       0.445       0.169\n",
            "\n",
            "     Epoch   gpu_mem       box       obj       cls     total    labels  img_size\n",
            "     13/29     7.43G   0.03897    0.0181  0.005953   0.06302        12       640: 100% 76/76 [11:27<00:00,  9.05s/it]\n",
            "               Class      Images      Labels           P           R      mAP@.5  mAP@.5:.95: 100% 8/8 [00:34<00:00,  4.31s/it]\n",
            "                 all         120        1015       0.695       0.477       0.452       0.165\n",
            "\n",
            "     Epoch   gpu_mem       box       obj       cls     total    labels  img_size\n",
            "     14/29     7.43G   0.03981   0.01721  0.005363   0.06238         7       640: 100% 76/76 [11:53<00:00,  9.39s/it]\n",
            "               Class      Images      Labels           P           R      mAP@.5  mAP@.5:.95: 100% 8/8 [00:34<00:00,  4.32s/it]\n",
            "                 all         120        1015       0.381       0.638       0.484       0.203\n",
            "\n",
            "     Epoch   gpu_mem       box       obj       cls     total    labels  img_size\n",
            "     15/29     7.43G   0.03495   0.01788  0.005292   0.05812        50       640: 100% 76/76 [12:24<00:00,  9.80s/it]\n",
            "               Class      Images      Labels           P           R      mAP@.5  mAP@.5:.95: 100% 8/8 [00:31<00:00,  3.95s/it]\n",
            "                 all         120        1015       0.665       0.524       0.468       0.191\n",
            "\n",
            "     Epoch   gpu_mem       box       obj       cls     total    labels  img_size\n",
            "     16/29     7.43G   0.03405   0.01869  0.005146   0.05789        83       640: 100% 76/76 [11:56<00:00,  9.43s/it]\n",
            "               Class      Images      Labels           P           R      mAP@.5  mAP@.5:.95: 100% 8/8 [00:31<00:00,  3.93s/it]\n",
            "                 all         120        1015       0.354       0.695       0.499       0.216\n",
            "\n",
            "     Epoch   gpu_mem       box       obj       cls     total    labels  img_size\n",
            "     17/29     7.43G   0.03282   0.01762  0.004966   0.05541        23       640: 100% 76/76 [11:53<00:00,  9.39s/it]\n",
            "               Class      Images      Labels           P           R      mAP@.5  mAP@.5:.95: 100% 8/8 [00:30<00:00,  3.80s/it]\n",
            "                 all         120        1015       0.731       0.461       0.503       0.225\n",
            "\n",
            "     Epoch   gpu_mem       box       obj       cls     total    labels  img_size\n",
            "     18/29     7.43G   0.03241   0.01714  0.004696   0.05425        10       640: 100% 76/76 [11:45<00:00,  9.28s/it]\n",
            "               Class      Images      Labels           P           R      mAP@.5  mAP@.5:.95: 100% 8/8 [00:31<00:00,  3.96s/it]\n",
            "                 all         120        1015       0.663       0.566       0.531       0.244\n",
            "\n",
            "     Epoch   gpu_mem       box       obj       cls     total    labels  img_size\n",
            "     19/29     7.43G    0.0316   0.01709  0.004524   0.05321        13       640: 100% 76/76 [11:59<00:00,  9.46s/it]\n",
            "               Class      Images      Labels           P           R      mAP@.5  mAP@.5:.95: 100% 8/8 [00:32<00:00,  4.02s/it]\n",
            "                 all         120        1015       0.419       0.632       0.516       0.235\n",
            "\n",
            "     Epoch   gpu_mem       box       obj       cls     total    labels  img_size\n",
            "     20/29     7.43G   0.03118   0.01709    0.0043   0.05256         6       640: 100% 76/76 [11:21<00:00,  8.97s/it]\n",
            "               Class      Images      Labels           P           R      mAP@.5  mAP@.5:.95: 100% 8/8 [00:32<00:00,  4.05s/it]\n",
            "                 all         120        1015       0.537       0.676       0.604       0.269\n",
            "\n",
            "     Epoch   gpu_mem       box       obj       cls     total    labels  img_size\n",
            "     21/29     7.43G   0.03048   0.01703  0.004213   0.05172        19       640: 100% 76/76 [11:39<00:00,  9.20s/it]\n",
            "               Class      Images      Labels           P           R      mAP@.5  mAP@.5:.95: 100% 8/8 [00:33<00:00,  4.23s/it]\n",
            "                 all         120        1015       0.624       0.652       0.621       0.263\n",
            "\n",
            "     Epoch   gpu_mem       box       obj       cls     total    labels  img_size\n",
            "     22/29     7.43G    0.0309   0.01698  0.003956   0.05184         9       640: 100% 76/76 [11:39<00:00,  9.20s/it]\n",
            "               Class      Images      Labels           P           R      mAP@.5  mAP@.5:.95: 100% 8/8 [00:32<00:00,  4.06s/it]\n",
            "                 all         120        1015        0.62       0.653       0.609       0.261\n",
            "\n",
            "     Epoch   gpu_mem       box       obj       cls     total    labels  img_size\n",
            "     23/29     7.43G   0.03035   0.01629  0.003834   0.05047        18       640: 100% 76/76 [11:47<00:00,  9.31s/it]\n",
            "               Class      Images      Labels           P           R      mAP@.5  mAP@.5:.95: 100% 8/8 [00:31<00:00,  3.94s/it]\n",
            "                 all         120        1015       0.647        0.64       0.614       0.267\n",
            "\n",
            "     Epoch   gpu_mem       box       obj       cls     total    labels  img_size\n",
            "     24/29     7.43G   0.03005   0.01673  0.003382   0.05016        32       640: 100% 76/76 [11:47<00:00,  9.31s/it]\n",
            "               Class      Images      Labels           P           R      mAP@.5  mAP@.5:.95: 100% 8/8 [00:30<00:00,  3.86s/it]\n",
            "                 all         120        1015       0.627       0.671       0.624       0.268\n",
            "\n",
            "     Epoch   gpu_mem       box       obj       cls     total    labels  img_size\n",
            "     25/29     7.43G   0.02938    0.0166  0.003062   0.04904        17       640: 100% 76/76 [11:17<00:00,  8.91s/it]\n",
            "               Class      Images      Labels           P           R      mAP@.5  mAP@.5:.95: 100% 8/8 [00:32<00:00,  4.03s/it]\n",
            "                 all         120        1015       0.664       0.629       0.626       0.263\n",
            "\n",
            "     Epoch   gpu_mem       box       obj       cls     total    labels  img_size\n",
            "     26/29     7.43G   0.02941   0.01639   0.00295   0.04875         7       640: 100% 76/76 [11:35<00:00,  9.15s/it]\n",
            "               Class      Images      Labels           P           R      mAP@.5  mAP@.5:.95: 100% 8/8 [00:32<00:00,  4.11s/it]\n",
            "                 all         120        1015       0.645       0.669       0.629       0.275\n",
            "\n",
            "     Epoch   gpu_mem       box       obj       cls     total    labels  img_size\n",
            "     27/29     7.43G   0.02912   0.01633  0.003011   0.04846       141       640:  33% 25/76 [03:56<08:40, 10.21s/it]"
          ]
        }
      ]
    },
    {
      "cell_type": "code",
      "source": [
        "!python detect.py --source 123.mp4 --weights runs/train/yolov7_Helmet3/weights/best.pt --conf 0.3"
      ],
      "metadata": {
        "id": "j5_4EupEPuYQ",
        "colab": {
          "base_uri": "https://localhost:8080/"
        },
        "outputId": "cf2cf2c6-95c2-4b4e-8e23-6490ac85d1b0"
      },
      "execution_count": null,
      "outputs": [
        {
          "output_type": "stream",
          "name": "stdout",
          "text": [
            "Namespace(agnostic_nms=False, augment=False, classes=None, conf_thres=0.3, device='', exist_ok=False, img_size=640, iou_thres=0.45, name='exp', no_trace=False, nosave=False, project='runs/detect', save_conf=False, save_txt=False, source='123.mp4', update=False, view_img=False, weights=['runs/train/yolov7_Helmet3/weights/best.pt'])\n",
            "YOLOR 🚀 v0.1-107-g44d8ab4 torch 1.12.1+cu113 CPU\n",
            "\n",
            "Fusing layers... \n",
            "RepConv.fuse_repvgg_block\n",
            "RepConv.fuse_repvgg_block\n",
            "RepConv.fuse_repvgg_block\n",
            "IDetect.fuse\n",
            "Model Summary: 314 layers, 36497954 parameters, 6194944 gradients\n",
            " Convert model to Traced-model... \n",
            " traced_script_module saved! \n",
            " model is traced! \n",
            "\n",
            "/usr/local/lib/python3.7/dist-packages/torch/functional.py:478: UserWarning: torch.meshgrid: in an upcoming release, it will be required to pass the indexing argument. (Triggered internally at  ../aten/src/ATen/native/TensorShape.cpp:2894.)\n",
            "  return _VF.meshgrid(tensors, **kwargs)  # type: ignore[attr-defined]\n",
            "video 1/1 (1/316) /content/gdrive/MyDrive/Yolov7/yolov7/123.mp4: Done. (1449.5ms) Inference, (8.0ms) NMS\n",
            "video 1/1 (2/316) /content/gdrive/MyDrive/Yolov7/yolov7/123.mp4: Done. (1389.7ms) Inference, (0.2ms) NMS\n",
            "video 1/1 (3/316) /content/gdrive/MyDrive/Yolov7/yolov7/123.mp4: Done. (1306.7ms) Inference, (0.2ms) NMS\n",
            "video 1/1 (4/316) /content/gdrive/MyDrive/Yolov7/yolov7/123.mp4: Done. (1371.9ms) Inference, (0.3ms) NMS\n",
            "video 1/1 (5/316) /content/gdrive/MyDrive/Yolov7/yolov7/123.mp4: Done. (1539.3ms) Inference, (0.3ms) NMS\n",
            "video 1/1 (6/316) /content/gdrive/MyDrive/Yolov7/yolov7/123.mp4: Done. (1554.3ms) Inference, (0.2ms) NMS\n",
            "video 1/1 (7/316) /content/gdrive/MyDrive/Yolov7/yolov7/123.mp4: Done. (1316.2ms) Inference, (0.2ms) NMS\n",
            "video 1/1 (8/316) /content/gdrive/MyDrive/Yolov7/yolov7/123.mp4: Done. (1316.3ms) Inference, (0.2ms) NMS\n",
            "video 1/1 (9/316) /content/gdrive/MyDrive/Yolov7/yolov7/123.mp4: Done. (1406.3ms) Inference, (0.2ms) NMS\n",
            "video 1/1 (10/316) /content/gdrive/MyDrive/Yolov7/yolov7/123.mp4: Done. (1325.7ms) Inference, (0.3ms) NMS\n",
            "video 1/1 (11/316) /content/gdrive/MyDrive/Yolov7/yolov7/123.mp4: Done. (1375.4ms) Inference, (0.3ms) NMS\n",
            "video 1/1 (12/316) /content/gdrive/MyDrive/Yolov7/yolov7/123.mp4: Done. (1340.0ms) Inference, (0.3ms) NMS\n",
            "video 1/1 (13/316) /content/gdrive/MyDrive/Yolov7/yolov7/123.mp4: Done. (1375.6ms) Inference, (0.3ms) NMS\n",
            "video 1/1 (14/316) /content/gdrive/MyDrive/Yolov7/yolov7/123.mp4: Done. (1322.0ms) Inference, (0.2ms) NMS\n",
            "video 1/1 (15/316) /content/gdrive/MyDrive/Yolov7/yolov7/123.mp4: Done. (1310.8ms) Inference, (0.2ms) NMS\n",
            "video 1/1 (16/316) /content/gdrive/MyDrive/Yolov7/yolov7/123.mp4: Done. (1320.6ms) Inference, (0.4ms) NMS\n",
            "video 1/1 (17/316) /content/gdrive/MyDrive/Yolov7/yolov7/123.mp4: Done. (1316.4ms) Inference, (0.3ms) NMS\n",
            "video 1/1 (18/316) /content/gdrive/MyDrive/Yolov7/yolov7/123.mp4: Done. (1296.0ms) Inference, (0.2ms) NMS\n",
            "video 1/1 (19/316) /content/gdrive/MyDrive/Yolov7/yolov7/123.mp4: Done. (1309.9ms) Inference, (0.3ms) NMS\n",
            "video 1/1 (20/316) /content/gdrive/MyDrive/Yolov7/yolov7/123.mp4: Done. (1318.6ms) Inference, (0.3ms) NMS\n",
            "video 1/1 (21/316) /content/gdrive/MyDrive/Yolov7/yolov7/123.mp4: Done. (1309.7ms) Inference, (0.2ms) NMS\n",
            "video 1/1 (22/316) /content/gdrive/MyDrive/Yolov7/yolov7/123.mp4: Done. (1307.5ms) Inference, (0.2ms) NMS\n",
            "video 1/1 (23/316) /content/gdrive/MyDrive/Yolov7/yolov7/123.mp4: Done. (1316.1ms) Inference, (0.2ms) NMS\n",
            "video 1/1 (24/316) /content/gdrive/MyDrive/Yolov7/yolov7/123.mp4: Done. (1350.4ms) Inference, (0.2ms) NMS\n",
            "video 1/1 (25/316) /content/gdrive/MyDrive/Yolov7/yolov7/123.mp4: Done. (1302.6ms) Inference, (0.3ms) NMS\n",
            "video 1/1 (26/316) /content/gdrive/MyDrive/Yolov7/yolov7/123.mp4: Done. (1324.8ms) Inference, (0.2ms) NMS\n",
            "video 1/1 (27/316) /content/gdrive/MyDrive/Yolov7/yolov7/123.mp4: Done. (1304.7ms) Inference, (0.2ms) NMS\n",
            "video 1/1 (28/316) /content/gdrive/MyDrive/Yolov7/yolov7/123.mp4: Done. (1306.5ms) Inference, (0.2ms) NMS\n",
            "video 1/1 (29/316) /content/gdrive/MyDrive/Yolov7/yolov7/123.mp4: Done. (1362.7ms) Inference, (0.4ms) NMS\n",
            "video 1/1 (30/316) /content/gdrive/MyDrive/Yolov7/yolov7/123.mp4: Done. (1407.5ms) Inference, (0.3ms) NMS\n",
            "video 1/1 (31/316) /content/gdrive/MyDrive/Yolov7/yolov7/123.mp4: Done. (1307.0ms) Inference, (0.2ms) NMS\n",
            "video 1/1 (32/316) /content/gdrive/MyDrive/Yolov7/yolov7/123.mp4: Done. (1418.5ms) Inference, (0.3ms) NMS\n",
            "video 1/1 (33/316) /content/gdrive/MyDrive/Yolov7/yolov7/123.mp4: Done. (1403.3ms) Inference, (0.2ms) NMS\n",
            "video 1/1 (34/316) /content/gdrive/MyDrive/Yolov7/yolov7/123.mp4: Done. (1335.0ms) Inference, (0.2ms) NMS\n",
            "video 1/1 (35/316) /content/gdrive/MyDrive/Yolov7/yolov7/123.mp4: Done. (1384.2ms) Inference, (0.3ms) NMS\n",
            "video 1/1 (36/316) /content/gdrive/MyDrive/Yolov7/yolov7/123.mp4: Done. (1404.0ms) Inference, (0.3ms) NMS\n",
            "video 1/1 (37/316) /content/gdrive/MyDrive/Yolov7/yolov7/123.mp4: Done. (1426.3ms) Inference, (0.3ms) NMS\n",
            "video 1/1 (38/316) /content/gdrive/MyDrive/Yolov7/yolov7/123.mp4: Done. (1434.0ms) Inference, (0.3ms) NMS\n",
            "video 1/1 (39/316) /content/gdrive/MyDrive/Yolov7/yolov7/123.mp4: Done. (1385.3ms) Inference, (0.2ms) NMS\n",
            "video 1/1 (40/316) /content/gdrive/MyDrive/Yolov7/yolov7/123.mp4: Done. (1403.3ms) Inference, (0.3ms) NMS\n",
            "video 1/1 (41/316) /content/gdrive/MyDrive/Yolov7/yolov7/123.mp4: Done. (1384.3ms) Inference, (0.3ms) NMS\n",
            "video 1/1 (42/316) /content/gdrive/MyDrive/Yolov7/yolov7/123.mp4: Done. (1384.3ms) Inference, (0.3ms) NMS\n",
            "video 1/1 (43/316) /content/gdrive/MyDrive/Yolov7/yolov7/123.mp4: 1 rider, Done. (1404.8ms) Inference, (17.2ms) NMS\n",
            "video 1/1 (44/316) /content/gdrive/MyDrive/Yolov7/yolov7/123.mp4: 1 rider, Done. (1369.4ms) Inference, (0.8ms) NMS\n",
            "video 1/1 (45/316) /content/gdrive/MyDrive/Yolov7/yolov7/123.mp4: Done. (1400.8ms) Inference, (0.3ms) NMS\n",
            "video 1/1 (46/316) /content/gdrive/MyDrive/Yolov7/yolov7/123.mp4: Done. (1430.2ms) Inference, (0.3ms) NMS\n",
            "video 1/1 (47/316) /content/gdrive/MyDrive/Yolov7/yolov7/123.mp4: Done. (1416.0ms) Inference, (0.3ms) NMS\n",
            "video 1/1 (48/316) /content/gdrive/MyDrive/Yolov7/yolov7/123.mp4: Done. (1317.9ms) Inference, (0.2ms) NMS\n",
            "video 1/1 (49/316) /content/gdrive/MyDrive/Yolov7/yolov7/123.mp4: Done. (1319.9ms) Inference, (0.3ms) NMS\n",
            "video 1/1 (50/316) /content/gdrive/MyDrive/Yolov7/yolov7/123.mp4: 1 rider, Done. (1301.7ms) Inference, (1.0ms) NMS\n",
            "video 1/1 (51/316) /content/gdrive/MyDrive/Yolov7/yolov7/123.mp4: Done. (1344.5ms) Inference, (0.3ms) NMS\n",
            "video 1/1 (52/316) /content/gdrive/MyDrive/Yolov7/yolov7/123.mp4: Done. (1419.2ms) Inference, (0.3ms) NMS\n",
            "video 1/1 (53/316) /content/gdrive/MyDrive/Yolov7/yolov7/123.mp4: Done. (1387.0ms) Inference, (0.3ms) NMS\n",
            "video 1/1 (54/316) /content/gdrive/MyDrive/Yolov7/yolov7/123.mp4: Done. (1394.5ms) Inference, (0.3ms) NMS\n",
            "video 1/1 (55/316) /content/gdrive/MyDrive/Yolov7/yolov7/123.mp4: Done. (1399.9ms) Inference, (0.3ms) NMS\n",
            "video 1/1 (56/316) /content/gdrive/MyDrive/Yolov7/yolov7/123.mp4: Done. (1373.8ms) Inference, (0.3ms) NMS\n",
            "video 1/1 (57/316) /content/gdrive/MyDrive/Yolov7/yolov7/123.mp4: Done. (1314.4ms) Inference, (0.3ms) NMS\n",
            "video 1/1 (58/316) /content/gdrive/MyDrive/Yolov7/yolov7/123.mp4: Done. (1316.3ms) Inference, (0.4ms) NMS\n",
            "video 1/1 (59/316) /content/gdrive/MyDrive/Yolov7/yolov7/123.mp4: Done. (1419.6ms) Inference, (0.3ms) NMS\n",
            "video 1/1 (60/316) /content/gdrive/MyDrive/Yolov7/yolov7/123.mp4: Done. (1434.4ms) Inference, (0.3ms) NMS\n",
            "video 1/1 (61/316) /content/gdrive/MyDrive/Yolov7/yolov7/123.mp4: Done. (1369.4ms) Inference, (0.3ms) NMS\n",
            "video 1/1 (62/316) /content/gdrive/MyDrive/Yolov7/yolov7/123.mp4: Done. (1339.7ms) Inference, (0.3ms) NMS\n",
            "video 1/1 (63/316) /content/gdrive/MyDrive/Yolov7/yolov7/123.mp4: Done. (1382.9ms) Inference, (0.3ms) NMS\n",
            "video 1/1 (64/316) /content/gdrive/MyDrive/Yolov7/yolov7/123.mp4: Done. (1325.1ms) Inference, (0.2ms) NMS\n",
            "video 1/1 (65/316) /content/gdrive/MyDrive/Yolov7/yolov7/123.mp4: Done. (1398.9ms) Inference, (0.3ms) NMS\n",
            "video 1/1 (66/316) /content/gdrive/MyDrive/Yolov7/yolov7/123.mp4: Done. (2070.3ms) Inference, (0.4ms) NMS\n",
            "video 1/1 (67/316) /content/gdrive/MyDrive/Yolov7/yolov7/123.mp4: Done. (2297.9ms) Inference, (0.4ms) NMS\n",
            "video 1/1 (68/316) /content/gdrive/MyDrive/Yolov7/yolov7/123.mp4: Done. (1500.3ms) Inference, (0.3ms) NMS\n",
            "video 1/1 (69/316) /content/gdrive/MyDrive/Yolov7/yolov7/123.mp4: Done. (1326.7ms) Inference, (0.3ms) NMS\n",
            "video 1/1 (70/316) /content/gdrive/MyDrive/Yolov7/yolov7/123.mp4: Done. (1406.6ms) Inference, (0.3ms) NMS\n",
            "video 1/1 (71/316) /content/gdrive/MyDrive/Yolov7/yolov7/123.mp4: Done. (1368.0ms) Inference, (0.3ms) NMS\n",
            "video 1/1 (72/316) /content/gdrive/MyDrive/Yolov7/yolov7/123.mp4: Done. (1380.8ms) Inference, (0.4ms) NMS\n",
            "video 1/1 (73/316) /content/gdrive/MyDrive/Yolov7/yolov7/123.mp4: Done. (1366.5ms) Inference, (0.3ms) NMS\n",
            "video 1/1 (74/316) /content/gdrive/MyDrive/Yolov7/yolov7/123.mp4: Done. (1424.1ms) Inference, (0.3ms) NMS\n",
            "video 1/1 (75/316) /content/gdrive/MyDrive/Yolov7/yolov7/123.mp4: Done. (1413.0ms) Inference, (0.2ms) NMS\n",
            "video 1/1 (76/316) /content/gdrive/MyDrive/Yolov7/yolov7/123.mp4: Done. (1396.0ms) Inference, (0.3ms) NMS\n",
            "video 1/1 (77/316) /content/gdrive/MyDrive/Yolov7/yolov7/123.mp4: Done. (1405.1ms) Inference, (0.3ms) NMS\n",
            "video 1/1 (78/316) /content/gdrive/MyDrive/Yolov7/yolov7/123.mp4: Done. (1417.3ms) Inference, (0.3ms) NMS\n",
            "video 1/1 (79/316) /content/gdrive/MyDrive/Yolov7/yolov7/123.mp4: Done. (1347.8ms) Inference, (0.3ms) NMS\n",
            "video 1/1 (80/316) /content/gdrive/MyDrive/Yolov7/yolov7/123.mp4: Done. (1344.6ms) Inference, (0.3ms) NMS\n",
            "video 1/1 (81/316) /content/gdrive/MyDrive/Yolov7/yolov7/123.mp4: Done. (1354.7ms) Inference, (0.3ms) NMS\n",
            "video 1/1 (82/316) /content/gdrive/MyDrive/Yolov7/yolov7/123.mp4: Done. (1425.2ms) Inference, (0.3ms) NMS\n",
            "video 1/1 (83/316) /content/gdrive/MyDrive/Yolov7/yolov7/123.mp4: Done. (1412.2ms) Inference, (0.3ms) NMS\n",
            "video 1/1 (84/316) /content/gdrive/MyDrive/Yolov7/yolov7/123.mp4: Done. (1426.8ms) Inference, (0.3ms) NMS\n",
            "video 1/1 (85/316) /content/gdrive/MyDrive/Yolov7/yolov7/123.mp4: Done. (1322.0ms) Inference, (0.2ms) NMS\n",
            "video 1/1 (86/316) /content/gdrive/MyDrive/Yolov7/yolov7/123.mp4: Done. (1313.5ms) Inference, (0.3ms) NMS\n",
            "video 1/1 (87/316) /content/gdrive/MyDrive/Yolov7/yolov7/123.mp4: Done. (1421.7ms) Inference, (0.3ms) NMS\n",
            "video 1/1 (88/316) /content/gdrive/MyDrive/Yolov7/yolov7/123.mp4: Done. (1413.9ms) Inference, (0.3ms) NMS\n",
            "video 1/1 (89/316) /content/gdrive/MyDrive/Yolov7/yolov7/123.mp4: Done. (1407.8ms) Inference, (0.3ms) NMS\n",
            "video 1/1 (90/316) /content/gdrive/MyDrive/Yolov7/yolov7/123.mp4: Done. (1430.1ms) Inference, (0.3ms) NMS\n",
            "video 1/1 (91/316) /content/gdrive/MyDrive/Yolov7/yolov7/123.mp4: Done. (1399.1ms) Inference, (0.4ms) NMS\n",
            "video 1/1 (92/316) /content/gdrive/MyDrive/Yolov7/yolov7/123.mp4: Done. (1388.6ms) Inference, (0.2ms) NMS\n",
            "video 1/1 (93/316) /content/gdrive/MyDrive/Yolov7/yolov7/123.mp4: Done. (1353.8ms) Inference, (0.3ms) NMS\n",
            "video 1/1 (94/316) /content/gdrive/MyDrive/Yolov7/yolov7/123.mp4: Done. (1347.0ms) Inference, (0.3ms) NMS\n",
            "video 1/1 (95/316) /content/gdrive/MyDrive/Yolov7/yolov7/123.mp4: Done. (1331.4ms) Inference, (0.3ms) NMS\n",
            "video 1/1 (96/316) /content/gdrive/MyDrive/Yolov7/yolov7/123.mp4: Done. (1402.8ms) Inference, (0.3ms) NMS\n",
            "video 1/1 (97/316) /content/gdrive/MyDrive/Yolov7/yolov7/123.mp4: Done. (1355.1ms) Inference, (0.3ms) NMS\n",
            "video 1/1 (98/316) /content/gdrive/MyDrive/Yolov7/yolov7/123.mp4: Done. (1380.0ms) Inference, (0.3ms) NMS\n",
            "video 1/1 (99/316) /content/gdrive/MyDrive/Yolov7/yolov7/123.mp4: Done. (1387.2ms) Inference, (0.2ms) NMS\n",
            "video 1/1 (100/316) /content/gdrive/MyDrive/Yolov7/yolov7/123.mp4: Done. (1317.6ms) Inference, (0.2ms) NMS\n",
            "video 1/1 (101/316) /content/gdrive/MyDrive/Yolov7/yolov7/123.mp4: Done. (1349.9ms) Inference, (0.3ms) NMS\n",
            "video 1/1 (102/316) /content/gdrive/MyDrive/Yolov7/yolov7/123.mp4: Done. (1397.4ms) Inference, (0.3ms) NMS\n",
            "video 1/1 (103/316) /content/gdrive/MyDrive/Yolov7/yolov7/123.mp4: Done. (1323.9ms) Inference, (0.2ms) NMS\n",
            "video 1/1 (104/316) /content/gdrive/MyDrive/Yolov7/yolov7/123.mp4: Done. (1309.4ms) Inference, (0.2ms) NMS\n",
            "video 1/1 (105/316) /content/gdrive/MyDrive/Yolov7/yolov7/123.mp4: Done. (1308.5ms) Inference, (0.2ms) NMS\n",
            "video 1/1 (106/316) /content/gdrive/MyDrive/Yolov7/yolov7/123.mp4: Done. (1318.8ms) Inference, (0.2ms) NMS\n",
            "video 1/1 (107/316) /content/gdrive/MyDrive/Yolov7/yolov7/123.mp4: Done. (1357.5ms) Inference, (0.3ms) NMS\n",
            "video 1/1 (108/316) /content/gdrive/MyDrive/Yolov7/yolov7/123.mp4: Done. (1353.3ms) Inference, (0.3ms) NMS\n",
            "video 1/1 (109/316) /content/gdrive/MyDrive/Yolov7/yolov7/123.mp4: Done. (1302.4ms) Inference, (0.2ms) NMS\n",
            "video 1/1 (110/316) /content/gdrive/MyDrive/Yolov7/yolov7/123.mp4: Done. (1373.0ms) Inference, (0.3ms) NMS\n",
            "video 1/1 (111/316) /content/gdrive/MyDrive/Yolov7/yolov7/123.mp4: Done. (1335.8ms) Inference, (0.2ms) NMS\n",
            "video 1/1 (112/316) /content/gdrive/MyDrive/Yolov7/yolov7/123.mp4: Done. (1314.0ms) Inference, (0.3ms) NMS\n",
            "video 1/1 (113/316) /content/gdrive/MyDrive/Yolov7/yolov7/123.mp4: Done. (1354.4ms) Inference, (0.3ms) NMS\n",
            "video 1/1 (114/316) /content/gdrive/MyDrive/Yolov7/yolov7/123.mp4: Done. (1426.8ms) Inference, (0.2ms) NMS\n",
            "video 1/1 (115/316) /content/gdrive/MyDrive/Yolov7/yolov7/123.mp4: Done. (1374.5ms) Inference, (0.4ms) NMS\n",
            "video 1/1 (116/316) /content/gdrive/MyDrive/Yolov7/yolov7/123.mp4: Done. (1437.2ms) Inference, (0.3ms) NMS\n",
            "video 1/1 (117/316) /content/gdrive/MyDrive/Yolov7/yolov7/123.mp4: Done. (1401.9ms) Inference, (0.3ms) NMS\n",
            "video 1/1 (118/316) /content/gdrive/MyDrive/Yolov7/yolov7/123.mp4: Done. (1421.0ms) Inference, (0.4ms) NMS\n",
            "video 1/1 (119/316) /content/gdrive/MyDrive/Yolov7/yolov7/123.mp4: Done. (1405.7ms) Inference, (0.2ms) NMS\n",
            "video 1/1 (120/316) /content/gdrive/MyDrive/Yolov7/yolov7/123.mp4: Done. (1315.3ms) Inference, (0.3ms) NMS\n",
            "video 1/1 (121/316) /content/gdrive/MyDrive/Yolov7/yolov7/123.mp4: Done. (1402.0ms) Inference, (0.2ms) NMS\n",
            "video 1/1 (122/316) /content/gdrive/MyDrive/Yolov7/yolov7/123.mp4: Done. (1326.3ms) Inference, (0.2ms) NMS\n",
            "video 1/1 (123/316) /content/gdrive/MyDrive/Yolov7/yolov7/123.mp4: Done. (1361.0ms) Inference, (0.3ms) NMS\n",
            "video 1/1 (124/316) /content/gdrive/MyDrive/Yolov7/yolov7/123.mp4: Done. (1427.0ms) Inference, (0.3ms) NMS\n",
            "video 1/1 (125/316) /content/gdrive/MyDrive/Yolov7/yolov7/123.mp4: Done. (1371.0ms) Inference, (0.2ms) NMS\n",
            "video 1/1 (126/316) /content/gdrive/MyDrive/Yolov7/yolov7/123.mp4: Done. (1312.9ms) Inference, (0.2ms) NMS\n",
            "video 1/1 (127/316) /content/gdrive/MyDrive/Yolov7/yolov7/123.mp4: 1 rider, 1 number_plate, Done. (1339.8ms) Inference, (0.9ms) NMS\n",
            "video 1/1 (128/316) /content/gdrive/MyDrive/Yolov7/yolov7/123.mp4: 1 rider, Done. (1381.0ms) Inference, (0.7ms) NMS\n",
            "video 1/1 (129/316) /content/gdrive/MyDrive/Yolov7/yolov7/123.mp4: Done. (1392.6ms) Inference, (0.2ms) NMS\n",
            "video 1/1 (130/316) /content/gdrive/MyDrive/Yolov7/yolov7/123.mp4: 1 rider, Done. (1350.0ms) Inference, (0.8ms) NMS\n",
            "video 1/1 (131/316) /content/gdrive/MyDrive/Yolov7/yolov7/123.mp4: 1 rider, 1 number_plate, Done. (1393.9ms) Inference, (0.9ms) NMS\n",
            "video 1/1 (132/316) /content/gdrive/MyDrive/Yolov7/yolov7/123.mp4: Done. (1329.7ms) Inference, (0.2ms) NMS\n",
            "video 1/1 (133/316) /content/gdrive/MyDrive/Yolov7/yolov7/123.mp4: Done. (1329.0ms) Inference, (0.2ms) NMS\n",
            "video 1/1 (134/316) /content/gdrive/MyDrive/Yolov7/yolov7/123.mp4: 1 number_plate, Done. (1294.7ms) Inference, (0.7ms) NMS\n",
            "video 1/1 (135/316) /content/gdrive/MyDrive/Yolov7/yolov7/123.mp4: Done. (1340.6ms) Inference, (0.3ms) NMS\n",
            "video 1/1 (136/316) /content/gdrive/MyDrive/Yolov7/yolov7/123.mp4: Done. (1383.9ms) Inference, (0.3ms) NMS\n",
            "video 1/1 (137/316) /content/gdrive/MyDrive/Yolov7/yolov7/123.mp4: Done. (1322.8ms) Inference, (0.3ms) NMS\n",
            "video 1/1 (138/316) /content/gdrive/MyDrive/Yolov7/yolov7/123.mp4: Done. (1384.8ms) Inference, (0.2ms) NMS\n",
            "video 1/1 (139/316) /content/gdrive/MyDrive/Yolov7/yolov7/123.mp4: Done. (1312.9ms) Inference, (0.3ms) NMS\n",
            "video 1/1 (140/316) /content/gdrive/MyDrive/Yolov7/yolov7/123.mp4: Done. (1380.8ms) Inference, (0.3ms) NMS\n",
            "video 1/1 (141/316) /content/gdrive/MyDrive/Yolov7/yolov7/123.mp4: Done. (1420.9ms) Inference, (0.3ms) NMS\n",
            "video 1/1 (142/316) /content/gdrive/MyDrive/Yolov7/yolov7/123.mp4: Done. (1427.5ms) Inference, (0.3ms) NMS\n",
            "video 1/1 (143/316) /content/gdrive/MyDrive/Yolov7/yolov7/123.mp4: Done. (1364.7ms) Inference, (0.3ms) NMS\n",
            "video 1/1 (144/316) /content/gdrive/MyDrive/Yolov7/yolov7/123.mp4: Done. (1379.6ms) Inference, (0.2ms) NMS\n",
            "video 1/1 (145/316) /content/gdrive/MyDrive/Yolov7/yolov7/123.mp4: Done. (1316.0ms) Inference, (0.3ms) NMS\n",
            "video 1/1 (146/316) /content/gdrive/MyDrive/Yolov7/yolov7/123.mp4: Done. (1442.9ms) Inference, (0.3ms) NMS\n",
            "video 1/1 (147/316) /content/gdrive/MyDrive/Yolov7/yolov7/123.mp4: Done. (1418.6ms) Inference, (0.3ms) NMS\n",
            "video 1/1 (148/316) /content/gdrive/MyDrive/Yolov7/yolov7/123.mp4: Done. (1400.0ms) Inference, (0.2ms) NMS\n",
            "video 1/1 (149/316) /content/gdrive/MyDrive/Yolov7/yolov7/123.mp4: Done. (1315.4ms) Inference, (0.2ms) NMS\n",
            "video 1/1 (150/316) /content/gdrive/MyDrive/Yolov7/yolov7/123.mp4: Done. (1396.4ms) Inference, (0.2ms) NMS\n",
            "video 1/1 (151/316) /content/gdrive/MyDrive/Yolov7/yolov7/123.mp4: Done. (1383.5ms) Inference, (0.3ms) NMS\n",
            "video 1/1 (152/316) /content/gdrive/MyDrive/Yolov7/yolov7/123.mp4: Done. (1440.5ms) Inference, (0.3ms) NMS\n",
            "video 1/1 (153/316) /content/gdrive/MyDrive/Yolov7/yolov7/123.mp4: Done. (1361.7ms) Inference, (0.3ms) NMS\n",
            "video 1/1 (154/316) /content/gdrive/MyDrive/Yolov7/yolov7/123.mp4: Done. (1360.2ms) Inference, (0.3ms) NMS\n",
            "video 1/1 (155/316) /content/gdrive/MyDrive/Yolov7/yolov7/123.mp4: Done. (1307.3ms) Inference, (0.2ms) NMS\n",
            "video 1/1 (156/316) /content/gdrive/MyDrive/Yolov7/yolov7/123.mp4: Done. (1387.3ms) Inference, (0.2ms) NMS\n",
            "video 1/1 (157/316) /content/gdrive/MyDrive/Yolov7/yolov7/123.mp4: Done. (1364.3ms) Inference, (0.3ms) NMS\n",
            "video 1/1 (158/316) /content/gdrive/MyDrive/Yolov7/yolov7/123.mp4: Done. (1337.0ms) Inference, (0.2ms) NMS\n",
            "video 1/1 (159/316) /content/gdrive/MyDrive/Yolov7/yolov7/123.mp4: Done. (1330.2ms) Inference, (0.2ms) NMS\n",
            "video 1/1 (160/316) /content/gdrive/MyDrive/Yolov7/yolov7/123.mp4: Done. (1362.8ms) Inference, (0.3ms) NMS\n",
            "video 1/1 (161/316) /content/gdrive/MyDrive/Yolov7/yolov7/123.mp4: Done. (1319.9ms) Inference, (0.3ms) NMS\n",
            "video 1/1 (162/316) /content/gdrive/MyDrive/Yolov7/yolov7/123.mp4: Done. (1336.1ms) Inference, (0.2ms) NMS\n",
            "video 1/1 (163/316) /content/gdrive/MyDrive/Yolov7/yolov7/123.mp4: Done. (1313.2ms) Inference, (0.3ms) NMS\n",
            "video 1/1 (164/316) /content/gdrive/MyDrive/Yolov7/yolov7/123.mp4: Done. (1302.1ms) Inference, (0.3ms) NMS\n",
            "video 1/1 (165/316) /content/gdrive/MyDrive/Yolov7/yolov7/123.mp4: Done. (1334.9ms) Inference, (0.2ms) NMS\n",
            "video 1/1 (166/316) /content/gdrive/MyDrive/Yolov7/yolov7/123.mp4: Done. (1384.6ms) Inference, (0.3ms) NMS\n",
            "video 1/1 (167/316) /content/gdrive/MyDrive/Yolov7/yolov7/123.mp4: Done. (1328.3ms) Inference, (0.3ms) NMS\n",
            "video 1/1 (168/316) /content/gdrive/MyDrive/Yolov7/yolov7/123.mp4: Done. (1426.1ms) Inference, (0.4ms) NMS\n",
            "video 1/1 (169/316) /content/gdrive/MyDrive/Yolov7/yolov7/123.mp4: Done. (1360.0ms) Inference, (0.3ms) NMS\n",
            "video 1/1 (170/316) /content/gdrive/MyDrive/Yolov7/yolov7/123.mp4: Done. (1420.6ms) Inference, (0.4ms) NMS\n",
            "video 1/1 (171/316) /content/gdrive/MyDrive/Yolov7/yolov7/123.mp4: Done. (1362.3ms) Inference, (0.3ms) NMS\n",
            "video 1/1 (172/316) /content/gdrive/MyDrive/Yolov7/yolov7/123.mp4: Done. (1323.9ms) Inference, (0.3ms) NMS\n",
            "video 1/1 (173/316) /content/gdrive/MyDrive/Yolov7/yolov7/123.mp4: Done. (1322.0ms) Inference, (0.2ms) NMS\n",
            "video 1/1 (174/316) /content/gdrive/MyDrive/Yolov7/yolov7/123.mp4: Done. (1356.2ms) Inference, (0.3ms) NMS\n",
            "video 1/1 (175/316) /content/gdrive/MyDrive/Yolov7/yolov7/123.mp4: Done. (1403.8ms) Inference, (0.2ms) NMS\n",
            "video 1/1 (176/316) /content/gdrive/MyDrive/Yolov7/yolov7/123.mp4: Done. (1351.3ms) Inference, (0.3ms) NMS\n",
            "video 1/1 (177/316) /content/gdrive/MyDrive/Yolov7/yolov7/123.mp4: Done. (1421.4ms) Inference, (0.2ms) NMS\n",
            "video 1/1 (178/316) /content/gdrive/MyDrive/Yolov7/yolov7/123.mp4: Done. (1326.3ms) Inference, (0.2ms) NMS\n",
            "video 1/1 (179/316) /content/gdrive/MyDrive/Yolov7/yolov7/123.mp4: Done. (1308.1ms) Inference, (0.2ms) NMS\n",
            "video 1/1 (180/316) /content/gdrive/MyDrive/Yolov7/yolov7/123.mp4: Done. (1318.8ms) Inference, (0.2ms) NMS\n",
            "video 1/1 (181/316) /content/gdrive/MyDrive/Yolov7/yolov7/123.mp4: Done. (1318.9ms) Inference, (0.2ms) NMS\n",
            "video 1/1 (182/316) /content/gdrive/MyDrive/Yolov7/yolov7/123.mp4: Done. (1359.5ms) Inference, (0.3ms) NMS\n",
            "video 1/1 (183/316) /content/gdrive/MyDrive/Yolov7/yolov7/123.mp4: Done. (1365.5ms) Inference, (0.3ms) NMS\n",
            "video 1/1 (184/316) /content/gdrive/MyDrive/Yolov7/yolov7/123.mp4: Done. (1422.3ms) Inference, (0.3ms) NMS\n",
            "video 1/1 (185/316) /content/gdrive/MyDrive/Yolov7/yolov7/123.mp4: Done. (1364.0ms) Inference, (0.2ms) NMS\n",
            "video 1/1 (186/316) /content/gdrive/MyDrive/Yolov7/yolov7/123.mp4: Done. (1404.6ms) Inference, (0.2ms) NMS\n",
            "video 1/1 (187/316) /content/gdrive/MyDrive/Yolov7/yolov7/123.mp4: Done. (1324.4ms) Inference, (0.2ms) NMS\n",
            "video 1/1 (188/316) /content/gdrive/MyDrive/Yolov7/yolov7/123.mp4: Done. (1309.0ms) Inference, (0.2ms) NMS\n",
            "video 1/1 (189/316) /content/gdrive/MyDrive/Yolov7/yolov7/123.mp4: Done. (1347.7ms) Inference, (0.4ms) NMS\n",
            "video 1/1 (190/316) /content/gdrive/MyDrive/Yolov7/yolov7/123.mp4: Done. (1441.4ms) Inference, (0.3ms) NMS\n",
            "video 1/1 (191/316) /content/gdrive/MyDrive/Yolov7/yolov7/123.mp4: Done. (1345.2ms) Inference, (0.3ms) NMS\n",
            "video 1/1 (192/316) /content/gdrive/MyDrive/Yolov7/yolov7/123.mp4: Done. (1393.5ms) Inference, (0.2ms) NMS\n",
            "video 1/1 (193/316) /content/gdrive/MyDrive/Yolov7/yolov7/123.mp4: Done. (1376.8ms) Inference, (0.3ms) NMS\n",
            "video 1/1 (194/316) /content/gdrive/MyDrive/Yolov7/yolov7/123.mp4: Done. (1320.2ms) Inference, (0.2ms) NMS\n",
            "video 1/1 (195/316) /content/gdrive/MyDrive/Yolov7/yolov7/123.mp4: Done. (1335.5ms) Inference, (0.2ms) NMS\n",
            "video 1/1 (196/316) /content/gdrive/MyDrive/Yolov7/yolov7/123.mp4: Done. (1374.7ms) Inference, (0.3ms) NMS\n",
            "video 1/1 (197/316) /content/gdrive/MyDrive/Yolov7/yolov7/123.mp4: Done. (1335.2ms) Inference, (0.3ms) NMS\n",
            "video 1/1 (198/316) /content/gdrive/MyDrive/Yolov7/yolov7/123.mp4: Done. (1434.8ms) Inference, (0.3ms) NMS\n",
            "video 1/1 (199/316) /content/gdrive/MyDrive/Yolov7/yolov7/123.mp4: Done. (1409.9ms) Inference, (0.3ms) NMS\n",
            "video 1/1 (200/316) /content/gdrive/MyDrive/Yolov7/yolov7/123.mp4: Done. (1328.7ms) Inference, (0.3ms) NMS\n",
            "video 1/1 (201/316) /content/gdrive/MyDrive/Yolov7/yolov7/123.mp4: Done. (1312.1ms) Inference, (0.2ms) NMS\n",
            "video 1/1 (202/316) /content/gdrive/MyDrive/Yolov7/yolov7/123.mp4: Done. (1379.3ms) Inference, (0.2ms) NMS\n",
            "video 1/1 (203/316) /content/gdrive/MyDrive/Yolov7/yolov7/123.mp4: Done. (1307.2ms) Inference, (0.2ms) NMS\n",
            "video 1/1 (204/316) /content/gdrive/MyDrive/Yolov7/yolov7/123.mp4: Done. (1295.5ms) Inference, (0.2ms) NMS\n",
            "video 1/1 (205/316) /content/gdrive/MyDrive/Yolov7/yolov7/123.mp4: Done. (1338.2ms) Inference, (0.3ms) NMS\n",
            "video 1/1 (206/316) /content/gdrive/MyDrive/Yolov7/yolov7/123.mp4: Done. (1400.9ms) Inference, (0.3ms) NMS\n",
            "video 1/1 (207/316) /content/gdrive/MyDrive/Yolov7/yolov7/123.mp4: Done. (1306.0ms) Inference, (0.2ms) NMS\n",
            "video 1/1 (208/316) /content/gdrive/MyDrive/Yolov7/yolov7/123.mp4: Done. (1327.7ms) Inference, (0.3ms) NMS\n",
            "video 1/1 (209/316) /content/gdrive/MyDrive/Yolov7/yolov7/123.mp4: Done. (1372.3ms) Inference, (0.2ms) NMS\n",
            "video 1/1 (210/316) /content/gdrive/MyDrive/Yolov7/yolov7/123.mp4: Done. (1372.7ms) Inference, (0.2ms) NMS\n",
            "video 1/1 (211/316) /content/gdrive/MyDrive/Yolov7/yolov7/123.mp4: Done. (1319.1ms) Inference, (0.2ms) NMS\n",
            "video 1/1 (212/316) /content/gdrive/MyDrive/Yolov7/yolov7/123.mp4: Done. (1356.4ms) Inference, (0.3ms) NMS\n",
            "video 1/1 (213/316) /content/gdrive/MyDrive/Yolov7/yolov7/123.mp4: Done. (1350.2ms) Inference, (0.3ms) NMS\n",
            "video 1/1 (214/316) /content/gdrive/MyDrive/Yolov7/yolov7/123.mp4: Done. (1434.3ms) Inference, (0.3ms) NMS\n",
            "video 1/1 (215/316) /content/gdrive/MyDrive/Yolov7/yolov7/123.mp4: Done. (1400.4ms) Inference, (0.3ms) NMS\n",
            "video 1/1 (216/316) /content/gdrive/MyDrive/Yolov7/yolov7/123.mp4: Done. (1316.8ms) Inference, (0.2ms) NMS\n",
            "video 1/1 (217/316) /content/gdrive/MyDrive/Yolov7/yolov7/123.mp4: Done. (1348.5ms) Inference, (0.3ms) NMS\n",
            "video 1/1 (218/316) /content/gdrive/MyDrive/Yolov7/yolov7/123.mp4: Done. (1686.5ms) Inference, (0.3ms) NMS\n",
            "video 1/1 (219/316) /content/gdrive/MyDrive/Yolov7/yolov7/123.mp4: Done. (2256.5ms) Inference, (0.3ms) NMS\n",
            "video 1/1 (220/316) /content/gdrive/MyDrive/Yolov7/yolov7/123.mp4: Done. (1793.1ms) Inference, (0.2ms) NMS\n",
            "video 1/1 (221/316) /content/gdrive/MyDrive/Yolov7/yolov7/123.mp4: Done. (1356.6ms) Inference, (0.2ms) NMS\n",
            "video 1/1 (222/316) /content/gdrive/MyDrive/Yolov7/yolov7/123.mp4: Done. (1379.0ms) Inference, (0.2ms) NMS\n",
            "video 1/1 (223/316) /content/gdrive/MyDrive/Yolov7/yolov7/123.mp4: Done. (1319.2ms) Inference, (0.2ms) NMS\n",
            "video 1/1 (224/316) /content/gdrive/MyDrive/Yolov7/yolov7/123.mp4: Done. (1376.0ms) Inference, (0.3ms) NMS\n",
            "video 1/1 (225/316) /content/gdrive/MyDrive/Yolov7/yolov7/123.mp4: Done. (1328.9ms) Inference, (0.3ms) NMS\n",
            "video 1/1 (226/316) /content/gdrive/MyDrive/Yolov7/yolov7/123.mp4: Done. (1365.3ms) Inference, (0.2ms) NMS\n",
            "video 1/1 (227/316) /content/gdrive/MyDrive/Yolov7/yolov7/123.mp4: Done. (1309.8ms) Inference, (0.2ms) NMS\n",
            "video 1/1 (228/316) /content/gdrive/MyDrive/Yolov7/yolov7/123.mp4: Done. (1324.0ms) Inference, (0.2ms) NMS\n",
            "video 1/1 (229/316) /content/gdrive/MyDrive/Yolov7/yolov7/123.mp4: Done. (1369.4ms) Inference, (0.3ms) NMS\n",
            "video 1/1 (230/316) /content/gdrive/MyDrive/Yolov7/yolov7/123.mp4: Done. (1398.4ms) Inference, (0.3ms) NMS\n",
            "video 1/1 (231/316) /content/gdrive/MyDrive/Yolov7/yolov7/123.mp4: Done. (1408.1ms) Inference, (0.2ms) NMS\n",
            "video 1/1 (232/316) /content/gdrive/MyDrive/Yolov7/yolov7/123.mp4: Done. (1328.7ms) Inference, (0.2ms) NMS\n",
            "video 1/1 (233/316) /content/gdrive/MyDrive/Yolov7/yolov7/123.mp4: Done. (1305.3ms) Inference, (0.4ms) NMS\n",
            "video 1/1 (234/316) /content/gdrive/MyDrive/Yolov7/yolov7/123.mp4: Done. (1404.9ms) Inference, (0.3ms) NMS\n",
            "video 1/1 (235/316) /content/gdrive/MyDrive/Yolov7/yolov7/123.mp4: Done. (1426.3ms) Inference, (0.3ms) NMS\n",
            "video 1/1 (236/316) /content/gdrive/MyDrive/Yolov7/yolov7/123.mp4: Done. (1342.8ms) Inference, (0.3ms) NMS\n",
            "video 1/1 (237/316) /content/gdrive/MyDrive/Yolov7/yolov7/123.mp4: Done. (1408.5ms) Inference, (0.2ms) NMS\n",
            "video 1/1 (238/316) /content/gdrive/MyDrive/Yolov7/yolov7/123.mp4: Done. (1313.2ms) Inference, (0.2ms) NMS\n",
            "video 1/1 (239/316) /content/gdrive/MyDrive/Yolov7/yolov7/123.mp4: Done. (1308.1ms) Inference, (0.2ms) NMS\n",
            "video 1/1 (240/316) /content/gdrive/MyDrive/Yolov7/yolov7/123.mp4: Done. (1301.8ms) Inference, (0.2ms) NMS\n",
            "video 1/1 (241/316) /content/gdrive/MyDrive/Yolov7/yolov7/123.mp4: Done. (1316.0ms) Inference, (0.2ms) NMS\n",
            "video 1/1 (242/316) /content/gdrive/MyDrive/Yolov7/yolov7/123.mp4: Done. (1385.5ms) Inference, (0.2ms) NMS\n",
            "video 1/1 (243/316) /content/gdrive/MyDrive/Yolov7/yolov7/123.mp4: Done. (1376.4ms) Inference, (0.3ms) NMS\n",
            "video 1/1 (244/316) /content/gdrive/MyDrive/Yolov7/yolov7/123.mp4: Done. (1424.1ms) Inference, (0.2ms) NMS\n",
            "video 1/1 (245/316) /content/gdrive/MyDrive/Yolov7/yolov7/123.mp4: Done. (1310.9ms) Inference, (0.2ms) NMS\n",
            "video 1/1 (246/316) /content/gdrive/MyDrive/Yolov7/yolov7/123.mp4: Done. (1375.7ms) Inference, (0.3ms) NMS\n",
            "video 1/1 (247/316) /content/gdrive/MyDrive/Yolov7/yolov7/123.mp4: Done. (1343.8ms) Inference, (0.3ms) NMS\n",
            "video 1/1 (248/316) /content/gdrive/MyDrive/Yolov7/yolov7/123.mp4: Done. (1375.1ms) Inference, (0.2ms) NMS\n",
            "video 1/1 (249/316) /content/gdrive/MyDrive/Yolov7/yolov7/123.mp4: Done. (1316.9ms) Inference, (0.2ms) NMS\n",
            "video 1/1 (250/316) /content/gdrive/MyDrive/Yolov7/yolov7/123.mp4: Done. (1393.2ms) Inference, (0.3ms) NMS\n",
            "video 1/1 (251/316) /content/gdrive/MyDrive/Yolov7/yolov7/123.mp4: Done. (1422.1ms) Inference, (0.3ms) NMS\n",
            "video 1/1 (252/316) /content/gdrive/MyDrive/Yolov7/yolov7/123.mp4: Done. (1414.9ms) Inference, (0.3ms) NMS\n",
            "video 1/1 (253/316) /content/gdrive/MyDrive/Yolov7/yolov7/123.mp4: Done. (1385.8ms) Inference, (0.2ms) NMS\n",
            "video 1/1 (254/316) /content/gdrive/MyDrive/Yolov7/yolov7/123.mp4: Done. (1327.4ms) Inference, (0.2ms) NMS\n",
            "video 1/1 (255/316) /content/gdrive/MyDrive/Yolov7/yolov7/123.mp4: Done. (1398.8ms) Inference, (0.3ms) NMS\n",
            "video 1/1 (256/316) /content/gdrive/MyDrive/Yolov7/yolov7/123.mp4: Done. (1419.1ms) Inference, (0.4ms) NMS\n",
            "video 1/1 (257/316) /content/gdrive/MyDrive/Yolov7/yolov7/123.mp4: Done. (1341.3ms) Inference, (0.2ms) NMS\n",
            "video 1/1 (258/316) /content/gdrive/MyDrive/Yolov7/yolov7/123.mp4: Done. (1316.5ms) Inference, (0.2ms) NMS\n",
            "video 1/1 (259/316) /content/gdrive/MyDrive/Yolov7/yolov7/123.mp4: Done. (1367.3ms) Inference, (0.3ms) NMS\n",
            "video 1/1 (260/316) /content/gdrive/MyDrive/Yolov7/yolov7/123.mp4: Done. (1364.6ms) Inference, (0.5ms) NMS\n",
            "video 1/1 (261/316) /content/gdrive/MyDrive/Yolov7/yolov7/123.mp4: Done. (1403.7ms) Inference, (0.3ms) NMS\n",
            "video 1/1 (262/316) /content/gdrive/MyDrive/Yolov7/yolov7/123.mp4: Done. (1416.6ms) Inference, (0.3ms) NMS\n",
            "video 1/1 (263/316) /content/gdrive/MyDrive/Yolov7/yolov7/123.mp4: Done. (1323.8ms) Inference, (0.2ms) NMS\n",
            "video 1/1 (264/316) /content/gdrive/MyDrive/Yolov7/yolov7/123.mp4: Done. (1356.6ms) Inference, (0.3ms) NMS\n",
            "video 1/1 (265/316) /content/gdrive/MyDrive/Yolov7/yolov7/123.mp4: Done. (1396.5ms) Inference, (0.3ms) NMS\n",
            "video 1/1 (266/316) /content/gdrive/MyDrive/Yolov7/yolov7/123.mp4: Done. (1392.1ms) Inference, (0.3ms) NMS\n",
            "video 1/1 (267/316) /content/gdrive/MyDrive/Yolov7/yolov7/123.mp4: Done. (1368.4ms) Inference, (0.3ms) NMS\n",
            "video 1/1 (268/316) /content/gdrive/MyDrive/Yolov7/yolov7/123.mp4: Done. (1315.5ms) Inference, (0.3ms) NMS\n",
            "video 1/1 (269/316) /content/gdrive/MyDrive/Yolov7/yolov7/123.mp4: Done. (1361.5ms) Inference, (0.3ms) NMS\n",
            "video 1/1 (270/316) /content/gdrive/MyDrive/Yolov7/yolov7/123.mp4: Done. (1380.3ms) Inference, (0.3ms) NMS\n",
            "video 1/1 (271/316) /content/gdrive/MyDrive/Yolov7/yolov7/123.mp4: Done. (1385.7ms) Inference, (0.2ms) NMS\n",
            "video 1/1 (272/316) /content/gdrive/MyDrive/Yolov7/yolov7/123.mp4: Done. (1344.4ms) Inference, (0.3ms) NMS\n",
            "video 1/1 (273/316) /content/gdrive/MyDrive/Yolov7/yolov7/123.mp4: Done. (1417.3ms) Inference, (0.3ms) NMS\n",
            "video 1/1 (274/316) /content/gdrive/MyDrive/Yolov7/yolov7/123.mp4: Done. (1392.0ms) Inference, (0.3ms) NMS\n",
            "video 1/1 (275/316) /content/gdrive/MyDrive/Yolov7/yolov7/123.mp4: Done. (1371.7ms) Inference, (0.2ms) NMS\n",
            "video 1/1 (276/316) /content/gdrive/MyDrive/Yolov7/yolov7/123.mp4: Done. (1338.5ms) Inference, (0.3ms) NMS\n",
            "video 1/1 (277/316) /content/gdrive/MyDrive/Yolov7/yolov7/123.mp4: Done. (1364.3ms) Inference, (0.3ms) NMS\n",
            "video 1/1 (278/316) /content/gdrive/MyDrive/Yolov7/yolov7/123.mp4: Done. (1334.6ms) Inference, (0.2ms) NMS\n",
            "video 1/1 (279/316) /content/gdrive/MyDrive/Yolov7/yolov7/123.mp4: Done. (1314.0ms) Inference, (0.2ms) NMS\n",
            "video 1/1 (280/316) /content/gdrive/MyDrive/Yolov7/yolov7/123.mp4: Done. (1323.8ms) Inference, (0.2ms) NMS\n",
            "video 1/1 (281/316) /content/gdrive/MyDrive/Yolov7/yolov7/123.mp4: Done. (1317.7ms) Inference, (0.2ms) NMS\n",
            "video 1/1 (282/316) /content/gdrive/MyDrive/Yolov7/yolov7/123.mp4: Done. (1316.5ms) Inference, (0.2ms) NMS\n",
            "video 1/1 (283/316) /content/gdrive/MyDrive/Yolov7/yolov7/123.mp4: Done. (1391.6ms) Inference, (0.3ms) NMS\n",
            "video 1/1 (284/316) /content/gdrive/MyDrive/Yolov7/yolov7/123.mp4: Done. (1352.8ms) Inference, (0.3ms) NMS\n",
            "video 1/1 (285/316) /content/gdrive/MyDrive/Yolov7/yolov7/123.mp4: Done. (1405.9ms) Inference, (0.4ms) NMS\n",
            "video 1/1 (286/316) /content/gdrive/MyDrive/Yolov7/yolov7/123.mp4: Done. (1371.1ms) Inference, (0.2ms) NMS\n",
            "video 1/1 (287/316) /content/gdrive/MyDrive/Yolov7/yolov7/123.mp4: Done. (1382.4ms) Inference, (0.3ms) NMS\n",
            "video 1/1 (288/316) /content/gdrive/MyDrive/Yolov7/yolov7/123.mp4: Done. (1397.1ms) Inference, (0.3ms) NMS\n",
            "video 1/1 (289/316) /content/gdrive/MyDrive/Yolov7/yolov7/123.mp4: Done. (1418.9ms) Inference, (0.3ms) NMS\n",
            "video 1/1 (290/316) /content/gdrive/MyDrive/Yolov7/yolov7/123.mp4: Done. (1422.4ms) Inference, (0.3ms) NMS\n",
            "video 1/1 (291/316) /content/gdrive/MyDrive/Yolov7/yolov7/123.mp4: Done. (1422.2ms) Inference, (0.3ms) NMS\n",
            "video 1/1 (292/316) /content/gdrive/MyDrive/Yolov7/yolov7/123.mp4: Done. (1383.7ms) Inference, (0.3ms) NMS\n",
            "video 1/1 (293/316) /content/gdrive/MyDrive/Yolov7/yolov7/123.mp4: Done. (1328.2ms) Inference, (0.2ms) NMS\n",
            "video 1/1 (294/316) /content/gdrive/MyDrive/Yolov7/yolov7/123.mp4: Done. (1380.3ms) Inference, (0.3ms) NMS\n",
            "video 1/1 (295/316) /content/gdrive/MyDrive/Yolov7/yolov7/123.mp4: Done. (1341.0ms) Inference, (0.3ms) NMS\n",
            "video 1/1 (296/316) /content/gdrive/MyDrive/Yolov7/yolov7/123.mp4: Done. (1402.2ms) Inference, (0.3ms) NMS\n",
            "video 1/1 (297/316) /content/gdrive/MyDrive/Yolov7/yolov7/123.mp4: Done. (1337.5ms) Inference, (0.3ms) NMS\n",
            "video 1/1 (298/316) /content/gdrive/MyDrive/Yolov7/yolov7/123.mp4: Done. (1416.8ms) Inference, (0.3ms) NMS\n",
            "video 1/1 (299/316) /content/gdrive/MyDrive/Yolov7/yolov7/123.mp4: Done. (1423.1ms) Inference, (0.3ms) NMS\n",
            "video 1/1 (300/316) /content/gdrive/MyDrive/Yolov7/yolov7/123.mp4: Done. (1314.0ms) Inference, (0.3ms) NMS\n",
            "video 1/1 (301/316) /content/gdrive/MyDrive/Yolov7/yolov7/123.mp4: Done. (1346.6ms) Inference, (0.3ms) NMS\n",
            "video 1/1 (302/316) /content/gdrive/MyDrive/Yolov7/yolov7/123.mp4: Done. (1416.2ms) Inference, (0.2ms) NMS\n",
            "video 1/1 (303/316) /content/gdrive/MyDrive/Yolov7/yolov7/123.mp4: Done. (1328.8ms) Inference, (0.2ms) NMS\n",
            "video 1/1 (304/316) /content/gdrive/MyDrive/Yolov7/yolov7/123.mp4: Done. (1312.9ms) Inference, (0.2ms) NMS\n",
            "video 1/1 (305/316) /content/gdrive/MyDrive/Yolov7/yolov7/123.mp4: Done. (1319.7ms) Inference, (0.2ms) NMS\n",
            "video 1/1 (306/316) /content/gdrive/MyDrive/Yolov7/yolov7/123.mp4: Done. (1357.6ms) Inference, (0.3ms) NMS\n",
            "video 1/1 (307/316) /content/gdrive/MyDrive/Yolov7/yolov7/123.mp4: Done. (1360.5ms) Inference, (0.2ms) NMS\n",
            "video 1/1 (308/316) /content/gdrive/MyDrive/Yolov7/yolov7/123.mp4: Done. (1388.3ms) Inference, (0.3ms) NMS\n",
            "video 1/1 (309/316) /content/gdrive/MyDrive/Yolov7/yolov7/123.mp4: Done. (1373.5ms) Inference, (0.2ms) NMS\n",
            "video 1/1 (310/316) /content/gdrive/MyDrive/Yolov7/yolov7/123.mp4: Done. (1385.9ms) Inference, (0.3ms) NMS\n",
            "video 1/1 (311/316) /content/gdrive/MyDrive/Yolov7/yolov7/123.mp4: Done. (1387.7ms) Inference, (0.3ms) NMS\n",
            "video 1/1 (312/316) /content/gdrive/MyDrive/Yolov7/yolov7/123.mp4: Done. (1362.2ms) Inference, (0.2ms) NMS\n",
            "video 1/1 (313/316) /content/gdrive/MyDrive/Yolov7/yolov7/123.mp4: Done. (1413.0ms) Inference, (0.2ms) NMS\n",
            "video 1/1 (314/316) /content/gdrive/MyDrive/Yolov7/yolov7/123.mp4: Done. (1336.8ms) Inference, (0.2ms) NMS\n",
            "video 1/1 (315/316) /content/gdrive/MyDrive/Yolov7/yolov7/123.mp4: Done. (1361.3ms) Inference, (0.3ms) NMS\n",
            "video 1/1 (316/316) /content/gdrive/MyDrive/Yolov7/yolov7/123.mp4: Done. (1418.9ms) Inference, (0.3ms) NMS\n",
            "Done. (448.639s)\n"
          ]
        }
      ]
    },
    {
      "cell_type": "code",
      "source": [
        "!python test.py --img 640  --data data/custom_data.yaml --weights runs/train/yolov7_Helmet3/weights/best.pt"
      ],
      "metadata": {
        "colab": {
          "base_uri": "https://localhost:8080/"
        },
        "id": "0j_NV5Gy-Ox8",
        "outputId": "01ba6cca-79c6-4fa5-bbe6-11170fb6c939"
      },
      "execution_count": null,
      "outputs": [
        {
          "output_type": "stream",
          "name": "stdout",
          "text": [
            "Namespace(augment=False, batch_size=32, conf_thres=0.001, data='data/custom_data.yaml', device='', exist_ok=False, img_size=640, iou_thres=0.65, name='exp', no_trace=False, project='runs/test', save_conf=False, save_hybrid=False, save_json=False, save_txt=False, single_cls=False, task='val', verbose=False, weights=['runs/train/yolov7_Helmet3/weights/best.pt'])\n",
            "YOLOR 🚀 v0.1-107-g44d8ab4 torch 1.12.1+cu113 CPU\n",
            "\n",
            "Fusing layers... \n",
            "RepConv.fuse_repvgg_block\n",
            "RepConv.fuse_repvgg_block\n",
            "RepConv.fuse_repvgg_block\n",
            "IDetect.fuse\n",
            "Model Summary: 314 layers, 36497954 parameters, 6194944 gradients\n",
            " Convert model to Traced-model... \n",
            " traced_script_module saved! \n",
            " model is traced! \n",
            "\n",
            "\u001b[34m\u001b[1mval: \u001b[0mScanning 'data/800_IMGs/valid/labels.cache' images and labels... 120 found, 0 missing, 0 empty, 0 corrupted: 100% 120/120 [00:00<?, ?it/s]\n",
            "               Class      Images      Labels           P           R      mAP@.5  mAP@.5:.95: 100% 4/4 [03:33<00:00, 53.38s/it]\n",
            "                 all         120        1015       0.646       0.674       0.637       0.275\n",
            "               rider         120         454       0.766       0.837       0.856       0.534\n",
            "              helmet         120         300       0.586        0.76       0.643       0.244\n",
            "           no_helmet         120         162       0.693       0.481       0.515       0.184\n",
            "        number_plate         120          99       0.539       0.616       0.533       0.137\n",
            "Speed: 1545.0/0.8/1545.8 ms inference/NMS/total per 640x640 image at batch-size 32\n",
            "Results saved to runs/test/exp\n"
          ]
        }
      ]
    },
    {
      "cell_type": "code",
      "source": [],
      "metadata": {
        "id": "F5tQ5tpTAdb6"
      },
      "execution_count": null,
      "outputs": []
    }
  ]
}